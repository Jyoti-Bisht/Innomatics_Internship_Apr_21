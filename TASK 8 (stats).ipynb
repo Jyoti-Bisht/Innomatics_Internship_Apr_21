{
 "cells": [
  {
   "cell_type": "markdown",
   "metadata": {},
   "source": [
    "# BINOMIAL DISTRIBUTION 1"
   ]
  },
  {
   "cell_type": "code",
   "execution_count": 2,
   "metadata": {},
   "outputs": [
    {
     "name": "stdout",
     "output_type": "stream",
     "text": [
      "0.696\n"
     ]
    }
   ],
   "source": [
    "import math\n",
    "\n",
    "def binomial(x,n,p):\n",
    "    b=(math.factorial(n)/(math.factorial(x)*math.factorial(n-x)))*(p**x)*(1-p)**(n-x)\n",
    "    return b\n",
    "\n",
    "b,n,p=0,6,1.09/2.09\n",
    "\n",
    "for i in range(3,7):\n",
    "    b+=binomial(i,n,p)\n",
    "print(\"%.3f\" %b)    \n",
    "    "
   ]
  },
  {
   "cell_type": "markdown",
   "metadata": {},
   "source": [
    "# BINOMIAL DISTRIBUTION 2"
   ]
  },
  {
   "cell_type": "code",
   "execution_count": 25,
   "metadata": {},
   "outputs": [
    {
     "name": "stdout",
     "output_type": "stream",
     "text": [
      "0.891\n",
      "0.342\n"
     ]
    }
   ],
   "source": [
    "import math\n",
    "\n",
    "def bino(x,n,p):\n",
    "    b=(math.factorial(n)/(math.factorial(x)*math.factorial(n-x)))*(p**x)*(1-p)**(n-x)\n",
    "    return b\n",
    "\n",
    "b,n,p,a=0,10,0.12,0\n",
    "\n",
    "for i in range(0,3):\n",
    "    b+=bino(i,n,p)\n",
    "print(round(b,3))\n",
    "\n",
    "for j in range(2,n+1):\n",
    "    a+=bino(j,n,p)\n",
    "    \n",
    "print(round(a,3))   "
   ]
  },
  {
   "cell_type": "markdown",
   "metadata": {},
   "source": [
    "  # Normal Distribution 1 "
   ]
  },
  {
   "cell_type": "code",
   "execution_count": 26,
   "metadata": {},
   "outputs": [
    {
     "name": "stdout",
     "output_type": "stream",
     "text": [
      "20 2\n",
      "19.5\n",
      "0.401\n",
      "0.341\n"
     ]
    }
   ],
   "source": [
    "import numpy as np\n",
    "import math\n",
    "mean,std=map(int,input().split())\n",
    "x=float(input())\n",
    "\n",
    " \n",
    "print(np.around((1/2*(1+(math.erf((x-mean)/(std*(2**0.5)))))),decimals=3))\n",
    "print(np.around((1/2*(1+((math.erf((22-mean)/(std*(2**0.5))))))-(1/2*(1+((math.erf((20-mean)/(std*(2**0.5)))))))),decimals=3))"
   ]
  },
  {
   "cell_type": "markdown",
   "metadata": {},
   "source": [
    "# Normal Distribution 2"
   ]
  },
  {
   "cell_type": "code",
   "execution_count": 35,
   "metadata": {},
   "outputs": [
    {
     "name": "stdout",
     "output_type": "stream",
     "text": [
      "70 10\n",
      "80\n",
      "60\n",
      "15.87\n",
      "84.13\n",
      "15.87\n"
     ]
    }
   ],
   "source": [
    "mean,std=map(int,input().split())\n",
    "x=int(input())\n",
    "y=int(input())\n",
    "\n",
    "print(round((1-(1/2*(1+(math.erf((x-mean)/(std*2**0.5))))))*100,2))\n",
    "print(round((1-(1/2*(1+(math.erf((y-mean)/(std*2**0.5))))))*100,2))\n",
    "print(round((1/2*(1+(math.erf((y-mean)/(std*2**0.5)))))*100,2))\n",
    "\n",
    "\n"
   ]
  },
  {
   "cell_type": "markdown",
   "metadata": {},
   "source": [
    "# CLT 1"
   ]
  },
  {
   "cell_type": "code",
   "execution_count": 51,
   "metadata": {},
   "outputs": [
    {
     "name": "stdout",
     "output_type": "stream",
     "text": [
      "0.0098\n"
     ]
    }
   ],
   "source": [
    "\n",
    "import math\n",
    "N=9800\n",
    "n=49\n",
    "mean=205\n",
    "std=15\n",
    "\n",
    "print(round((1/2*(1+(math.erf((N-(mean*n))/((math.sqrt(n))*std*(math.sqrt(2))))))),4))"
   ]
  },
  {
   "cell_type": "markdown",
   "metadata": {},
   "source": [
    "# CLT 2"
   ]
  },
  {
   "cell_type": "code",
   "execution_count": 52,
   "metadata": {},
   "outputs": [
    {
     "name": "stdout",
     "output_type": "stream",
     "text": [
      "250\n",
      "100\n",
      "2.4\n",
      "2\n",
      "0.6915\n"
     ]
    }
   ],
   "source": [
    "import math\n",
    "N=int(input())\n",
    "n=int(input())\n",
    "mean=float(input())\n",
    "std=float(input())\n",
    "\n",
    "print(round(( 1/2*(1+(math.erf( (N-(mean*n))/( (math.sqrt(2)) * (math.sqrt(n)) * std))))),4))"
   ]
  },
  {
   "cell_type": "markdown",
   "metadata": {},
   "source": [
    "# CLT 3"
   ]
  },
  {
   "cell_type": "code",
   "execution_count": 6,
   "metadata": {},
   "outputs": [
    {
     "name": "stdout",
     "output_type": "stream",
     "text": [
      "515.68\n",
      "484.32\n"
     ]
    }
   ],
   "source": [
    "import math\n",
    "N=100\n",
    "mean=500\n",
    "std=80\n",
    "p=0.95\n",
    "z=1.96\n",
    "\n",
    "print(round((mean+((z*std)/math.sqrt(N))),2))\n",
    "print(round((mean-((z*std)/math.sqrt(N))),2))"
   ]
  },
  {
   "cell_type": "markdown",
   "metadata": {},
   "source": [
    "# Pearson "
   ]
  },
  {
   "cell_type": "code",
   "execution_count": 9,
   "metadata": {},
   "outputs": [
    {
     "name": "stdout",
     "output_type": "stream",
     "text": [
      "10\n",
      "10 9.8 8 7.8 7.7 7 6 5 4 2 \n",
      "200 44 32 24 22 17 15 12 8 4\n",
      "0.612\n"
     ]
    }
   ],
   "source": [
    "n=int(input())\n",
    "a=list(map(float ,input().strip().split()))\n",
    "b=list(map(float, input().strip().split()))\n",
    "\n",
    "mean_a=sum(a)/n\n",
    "mean_b=sum(b)/n\n",
    "\n",
    "std_a=((sum([(i-(mean_a))**2 for i in a])/n)**0.5)\n",
    "std_b=((sum([(i-(mean_b))**2 for i in b])/n)**0.5)\n",
    "\n",
    "cov=sum([(a[i]-(mean_a))*(b[i]-mean_b) for i in range(n)])\n",
    "\n",
    "cor=cov/(n*std_a*std_b)\n",
    "print(round(cor,3))\n"
   ]
  },
  {
   "cell_type": "markdown",
   "metadata": {},
   "source": [
    "# Least Square Regression"
   ]
  },
  {
   "cell_type": "code",
   "execution_count": 24,
   "metadata": {},
   "outputs": [
    {
     "name": "stdout",
     "output_type": "stream",
     "text": [
      "5\n",
      "95 85\n",
      "85 95\n",
      "80 70\n",
      "70 65\n",
      "60 70\n",
      "78.288\n"
     ]
    }
   ],
   "source": [
    "from sklearn import linear_model\n",
    "import numpy as np\n",
    "n=int(input())\n",
    "a=np.array([input().split() for _ in range(n)],int )\n",
    "x = np.asarray(a[:, 0]).reshape(-1, 1)\n",
    "lm=linear_model.LinearRegression()\n",
    "lm.fit(x,a[:,1])\n",
    "\n",
    "print(round(lm.intercept_ + lm.coef_[0]*80, 3))"
   ]
  },
  {
   "cell_type": "code",
   "execution_count": null,
   "metadata": {},
   "outputs": [],
   "source": []
  }
 ],
 "metadata": {
  "kernelspec": {
   "display_name": "Python 3",
   "language": "python",
   "name": "python3"
  },
  "language_info": {
   "codemirror_mode": {
    "name": "ipython",
    "version": 3
   },
   "file_extension": ".py",
   "mimetype": "text/x-python",
   "name": "python",
   "nbconvert_exporter": "python",
   "pygments_lexer": "ipython3",
   "version": "3.8.5"
  }
 },
 "nbformat": 4,
 "nbformat_minor": 4
}
