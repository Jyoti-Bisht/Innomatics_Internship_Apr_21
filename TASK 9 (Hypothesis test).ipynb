{
 "cells": [
  {
   "cell_type": "markdown",
   "metadata": {},
   "source": [
    "# $$ EDA $$ "
   ]
  },
  {
   "cell_type": "code",
   "execution_count": 1,
   "metadata": {},
   "outputs": [],
   "source": [
    "import numpy as np\n",
    "import matplotlib.pyplot as plt\n",
    "from scipy.stats import norm \n",
    "from scipy.stats import t\n",
    "import math"
   ]
  },
  {
   "cell_type": "markdown",
   "metadata": {},
   "source": [
    "# Q-1: Pista House selling Hyderabadi Chicken Dum biryani claims that each parcel packet has 500 grams of biryani (also mentioned on the label of packet). You are sceptic of their claims and believe that on average each packet does not contain 500 grams of biryani. How do you prove your claim?  \n"
   ]
  },
  {
   "cell_type": "markdown",
   "metadata": {},
   "source": [
    "# Step 1:\n",
    "STATUS QUO : \n",
    "$$ H_0 :  \\mu = 500 $$                   \n"
   ]
  },
  {
   "cell_type": "markdown",
   "metadata": {},
   "source": [
    "BOLD CLAIM :\n",
    "$$ H_1 : \\mu \\neq 500 $$\n",
    "\n",
    "It's a two tailed test."
   ]
  },
  {
   "cell_type": "markdown",
   "metadata": {},
   "source": [
    "# Step 2 : \n",
    " \n",
    "Collect sample and find sample mean i.e $ \\bar{x} $"
   ]
  },
  {
   "cell_type": "code",
   "execution_count": 5,
   "metadata": {},
   "outputs": [
    {
     "name": "stdout",
     "output_type": "stream",
     "text": [
      "465.3\n"
     ]
    }
   ],
   "source": [
    "l = [490, 220, 470, 500, 495, 496, 496, 498, 508, 480]\n",
    "sample_mean1=sum(l)/len(l)\n",
    "print(sample_mean1)"
   ]
  },
  {
   "cell_type": "markdown",
   "metadata": {},
   "source": [
    "# Step 3 :\n",
    "Applying hypothesis testing and finding  t_score."
   ]
  },
  {
   "cell_type": "code",
   "execution_count": 6,
   "metadata": {},
   "outputs": [],
   "source": [
    "def t_score(sample_mean,pop_mean,sample_dev,size):\n",
    "    return(((sample_mean-pop_mean)/((sample_dev)/(size)**0.5)))"
   ]
  },
  {
   "cell_type": "code",
   "execution_count": 7,
   "metadata": {},
   "outputs": [
    {
     "name": "stdout",
     "output_type": "stream",
     "text": [
      "86.84859110991827\n"
     ]
    }
   ],
   "source": [
    "dev=[(i-sample_mean1)**2 for i in l]\n",
    "sample_std= (sum(dev)/(len(l)-1))**0.5\n",
    "print(sample_std)"
   ]
  },
  {
   "cell_type": "code",
   "execution_count": 8,
   "metadata": {},
   "outputs": [
    {
     "name": "stdout",
     "output_type": "stream",
     "text": [
      "-1.2634751284446715\n"
     ]
    }
   ],
   "source": [
    "t=t_score(sample_mean1,500,sample_std,10)\n",
    "print(t)"
   ]
  },
  {
   "cell_type": "markdown",
   "metadata": {},
   "source": [
    "# Step 4 :\n",
    "significence value=1-confidence level\n",
    "and then find the t_critical.\n"
   ]
  },
  {
   "cell_type": "code",
   "execution_count": 4,
   "metadata": {},
   "outputs": [
    {
     "name": "stdout",
     "output_type": "stream",
     "text": [
      "2.2621571627409915\n"
     ]
    }
   ],
   "source": [
    "alpha=1-0.95\n",
    "\n",
    "t_critical = t.ppf(1-alpha/2, df = 9)\n",
    "\n",
    "print(t_critical)\n"
   ]
  },
  {
   "cell_type": "markdown",
   "metadata": {},
   "source": [
    "# Step 5:\n",
    "Plotting "
   ]
  },
  {
   "cell_type": "code",
   "execution_count": 9,
   "metadata": {},
   "outputs": [],
   "source": [
    "sample_size = 10\n",
    "\n",
    "pop_mean1= 500\n"
   ]
  },
  {
   "cell_type": "code",
   "execution_count": 10,
   "metadata": {},
   "outputs": [
    {
     "data": {
      "text/plain": [
       "Text(465.3, 0.0007, 'x_bar')"
      ]
     },
     "execution_count": 10,
     "metadata": {},
     "output_type": "execute_result"
    },
    {
     "data": {
      "image/png": "[encoded data removed]",
      "text/plain": [
       "<Figure size 432x288 with 1 Axes>"
      ]
     },
     "metadata": {
      "needs_background": "light"
     },
     "output_type": "display_data"
    }
   ],
   "source": [
    "x_min=400\n",
    "x_max=600\n",
    "\n",
    "mean=pop_mean1\n",
    "std=sample_std/10**0.5\n",
    "\n",
    "\n",
    "x=np.linspace(x_min,x_max,100)\n",
    "y=norm.pdf(x,mean,std)\n",
    "plt.xlim(x_min,x_max)\n",
    "plt.plot(x,y)\n",
    "\n",
    "t_critical_left=(-t_critical*std) + pop_mean1\n",
    "t_critical_right=(t_critical*std) + pop_mean1\n",
    "\n",
    "x1=np.linspace(x_min,t_critical_left,100)\n",
    "y1=norm.pdf(x1,mean,std)\n",
    "plt.fill_between(x1,y1,color=\"orange\")\n",
    "\n",
    "x2=np.linspace(t_critical_right,x_max,100)\n",
    "y2=norm.pdf(x2,mean,std)\n",
    "plt.fill_between(x2,y2,color=\"orange\")\n",
    "\n",
    "plt.scatter(sample_mean1,0)\n",
    "plt.annotate(\"x_bar\", (sample_mean1,0.0007))"
   ]
  },
  {
   "cell_type": "code",
   "execution_count": 11,
   "metadata": {},
   "outputs": [
    {
     "name": "stdout",
     "output_type": "stream",
     "text": [
      "Fail to reject Null Hypothesis\n"
     ]
    }
   ],
   "source": [
    "if(np.abs(t) > t_critical):\n",
    "    print(\"Reject Null Hypothesis\")\n",
    "else:\n",
    "    print(\"Fail to reject Null Hypothesis\")"
   ]
  },
  {
   "cell_type": "code",
   "execution_count": 12,
   "metadata": {},
   "outputs": [
    {
     "name": "stdout",
     "output_type": "stream",
     "text": [
      "0.20641847943818092\n",
      "Fails to reject Null Hypothesis\n"
     ]
    }
   ],
   "source": [
    "# using p_value\n",
    "\n",
    "p_value=2*(1-norm.cdf(np.abs(t)))\n",
    "print(p_value)\n",
    "\n",
    "if(p_value<alpha):\n",
    "    print(\"Reject Null Hypothesis\")\n",
    "else:\n",
    "    print(\"Fails to reject Null Hypothesis\")"
   ]
  },
  {
   "cell_type": "markdown",
   "metadata": {},
   "source": [
    "***"
   ]
  },
  {
   "cell_type": "markdown",
   "metadata": {},
   "source": [
    "# Q-2: You have developed a new Natural Language Processing Algorithms and done a user study. You claim that the average rating given by the users is greater than 4 on a scale of 1 to 5. How do you prove this to your client? "
   ]
  },
  {
   "cell_type": "markdown",
   "metadata": {},
   "source": [
    "***"
   ]
  },
  {
   "cell_type": "markdown",
   "metadata": {},
   "source": [
    "# Step 1:\n",
    "$$ H_0 : \\mu \\leq 4 $$\n",
    "$$ H_1 : \\mu > 4 $$"
   ]
  },
  {
   "cell_type": "markdown",
   "metadata": {},
   "source": [
    "# Step 2:\n",
    "\n"
   ]
  },
  {
   "cell_type": "code",
   "execution_count": 13,
   "metadata": {},
   "outputs": [
    {
     "name": "stdout",
     "output_type": "stream",
     "text": [
      "4.25\n"
     ]
    }
   ],
   "source": [
    "l=[4,3,5,4,5,3,5,5,4,2,4,5,5,4,4,5,4,5,4,5]\n",
    "sample_mean2=sum(l)/len(l)\n",
    "print(sample_mean2)"
   ]
  },
  {
   "cell_type": "markdown",
   "metadata": {},
   "source": [
    "# Step 3 :\n",
    "### HYPOTHESIS TESTING -"
   ]
  },
  {
   "cell_type": "code",
   "execution_count": 14,
   "metadata": {},
   "outputs": [],
   "source": [
    "pop_mean2=4\n",
    "sample_Size=20"
   ]
  },
  {
   "cell_type": "code",
   "execution_count": 15,
   "metadata": {},
   "outputs": [
    {
     "name": "stdout",
     "output_type": "stream",
     "text": [
      "0.8506963092234007\n"
     ]
    }
   ],
   "source": [
    "var=[(i-sample_mean2)**2 for i in l]\n",
    "sample_variance2=sum(var)/(len(l)-1)\n",
    "sample_dev2=sample_variance2 **0.5\n",
    "print(sample_dev2)"
   ]
  },
  {
   "cell_type": "code",
   "execution_count": 16,
   "metadata": {},
   "outputs": [
    {
     "name": "stdout",
     "output_type": "stream",
     "text": [
      "1.3142574813455419\n"
     ]
    }
   ],
   "source": [
    "t=t_score(sample_mean2,pop_mean2,sample_dev2,20)\n",
    "print(t)"
   ]
  },
  {
   "cell_type": "markdown",
   "metadata": {},
   "source": [
    "# Step 4:\n",
    "### To find :Significance level and then t_critical value. "
   ]
  },
  {
   "cell_type": "code",
   "execution_count": 3,
   "metadata": {},
   "outputs": [
    {
     "name": "stdout",
     "output_type": "stream",
     "text": [
      "1.729132811521367\n"
     ]
    }
   ],
   "source": [
    "alpha=1-0.95\n",
    "\n",
    "t_critical2=t.ppf(1-alpha, df=19)\n",
    "print(t_critical2)"
   ]
  },
  {
   "cell_type": "markdown",
   "metadata": {},
   "source": [
    "# Step 5:\n",
    "### plotting and concluding"
   ]
  },
  {
   "cell_type": "code",
   "execution_count": 17,
   "metadata": {},
   "outputs": [
    {
     "data": {
      "text/plain": [
       "Text(4.25, 0.1, 'x_bar')"
      ]
     },
     "execution_count": 17,
     "metadata": {},
     "output_type": "execute_result"
    },
    {
     "data": {
      "image/png": "[encoded data removed]",
      "text/plain": [
       "<Figure size 432x288 with 1 Axes>"
      ]
     },
     "metadata": {
      "needs_background": "light"
     },
     "output_type": "display_data"
    }
   ],
   "source": [
    "x_min=3.5\n",
    "x_max=4.5\n",
    "\n",
    "mean=pop_mean2\n",
    "std=sample_dev2/20**0.5\n",
    "\n",
    "\n",
    "x=np.linspace(x_min,x_max,100)\n",
    "y=norm.pdf(x,mean,std)\n",
    "plt.xlim(x_min,x_max)\n",
    "plt.plot(x,y)\n",
    "\n",
    "\n",
    "\n",
    "t_critical_right= (t_critical2*std)+pop_mean2\n",
    "\n",
    "\n",
    "\n",
    "\n",
    "x1=np.linspace(t_critical_right,x_max,100)\n",
    "y1=norm.pdf(x1,mean,std)\n",
    "plt.fill_between(x1,y1,color=\"orange\")\n",
    "\n",
    "plt.scatter(sample_mean2,0)\n",
    "plt.annotate(\"x_bar\",(sample_mean2,0.1))"
   ]
  },
  {
   "cell_type": "code",
   "execution_count": 18,
   "metadata": {},
   "outputs": [
    {
     "name": "stdout",
     "output_type": "stream",
     "text": [
      "Fails to reject Null Hypothesis\n"
     ]
    }
   ],
   "source": [
    "if (np.abs(t)>t_critical2):\n",
    "    print(\"Reject Null Hypothesis\")\n",
    "else:\n",
    "    print(\"Fails to reject Null Hypothesis\")"
   ]
  },
  {
   "cell_type": "markdown",
   "metadata": {},
   "source": [
    "# P value "
   ]
  },
  {
   "cell_type": "code",
   "execution_count": 19,
   "metadata": {},
   "outputs": [
    {
     "name": "stdout",
     "output_type": "stream",
     "text": [
      "0.9056202147294372\n",
      "Fails to reject null hypothesis\n"
     ]
    }
   ],
   "source": [
    "p_value2=norm.cdf(np.abs(t))\n",
    "print(p_value2)\n",
    "\n",
    "if p_value2 < alpha:\n",
    "    print(\"Reject null hypothesis\")\n",
    "else:\n",
    "    print(\"Fails to reject null hypothesis\")"
   ]
  },
  {
   "cell_type": "markdown",
   "metadata": {},
   "source": [
    "***"
   ]
  },
  {
   "cell_type": "markdown",
   "metadata": {},
   "source": [
    "# Q-3: TATA has developed a better fuel management system for the SUV segment. They claim that with this system, on average the SUV's mileage is at least 15 km/litre?\n"
   ]
  },
  {
   "cell_type": "markdown",
   "metadata": {},
   "source": [
    "~~~"
   ]
  },
  {
   "cell_type": "markdown",
   "metadata": {},
   "source": [
    "# Step 1 :\n",
    "$$ H_0 \\leq 15 $$\n",
    "$$ H_1 > 15 $$"
   ]
  },
  {
   "cell_type": "markdown",
   "metadata": {},
   "source": [
    "# Step 2 :\n",
    "### sample size and sample mean "
   ]
  },
  {
   "cell_type": "code",
   "execution_count": 20,
   "metadata": {},
   "outputs": [
    {
     "name": "stdout",
     "output_type": "stream",
     "text": [
      "15.098999999999998\n",
      "20\n"
     ]
    }
   ],
   "source": [
    "a= [14.08, 14.13, 15.65, 13.78, 16.26, 14.97, 15.36, 15.81, 14.53, 16.79, 15.78, 16.98, 13.23, 15.43, 15.46, 13.88, 14.31, 14.41, 15.76, 15.38]\n",
    "sample_mean3=print(sum(a)/len(a))\n",
    "print(len(a))"
   ]
  },
  {
   "cell_type": "markdown",
   "metadata": {},
   "source": [
    "# Step 3:\n",
    "### Finding t_score - Hypothesis testing "
   ]
  },
  {
   "cell_type": "code",
   "execution_count": 21,
   "metadata": {},
   "outputs": [
    {
     "name": "stdout",
     "output_type": "stream",
     "text": [
      "1.0253677132465313\n",
      "0.42742649093397794\n"
     ]
    }
   ],
   "source": [
    "sample_mean3 = 15.098\n",
    "pop_mean3 = 15\n",
    "\n",
    "var=[(i-sample_mean3)**2 for i in a]\n",
    "variance = sum(var)/(len(a)-1)\n",
    "\n",
    "sample_std3=variance **0.5\n",
    "print(sample_std3)\n",
    "\n",
    "t=t_score(sample_mean3,15,sample_std3,20)\n",
    "print(t)\n"
   ]
  },
  {
   "cell_type": "markdown",
   "metadata": {},
   "source": [
    "# Step 4:\n",
    "### Setting significence level and finding t_critical"
   ]
  },
  {
   "cell_type": "code",
   "execution_count": null,
   "metadata": {},
   "outputs": [],
   "source": [
    "## t_critical2 above"
   ]
  },
  {
   "cell_type": "markdown",
   "metadata": {},
   "source": [
    "# Step 5 :\n",
    "### plotting and concluding "
   ]
  },
  {
   "cell_type": "code",
   "execution_count": 22,
   "metadata": {},
   "outputs": [
    {
     "data": {
      "text/plain": [
       "Text(15.098, 0.02, 'x_bar')"
      ]
     },
     "execution_count": 22,
     "metadata": {},
     "output_type": "execute_result"
    },
    {
     "data": {
      "image/png": "[encoded data removed]",
      "text/plain": [
       "<Figure size 432x288 with 1 Axes>"
      ]
     },
     "metadata": {
      "needs_background": "light"
     },
     "output_type": "display_data"
    }
   ],
   "source": [
    "x_min=13\n",
    "x_max=17\n",
    "\n",
    "mean=pop_mean3\n",
    "std=sample_std3/(20**0.5)\n",
    "\n",
    "x=np.linspace(x_min,x_max,100)\n",
    "y=norm.pdf(x,mean,std)\n",
    "\n",
    "plt.xlim(x_min,x_max)\n",
    "\n",
    "\n",
    "z_critical_right=pop_mean3 +t_critical2*std\n",
    "\n",
    "x1=np.linspace(z_critical_right,x_max,100)\n",
    "y1=norm.pdf(x1,mean,std)\n",
    "plt.fill_between(x1,y1,color=\"orange\")\n",
    "\n",
    "plt.scatter(sample_mean3,0)\n",
    "plt.annotate(\"x_bar\",(sample_mean3,0.02))"
   ]
  },
  {
   "cell_type": "code",
   "execution_count": 23,
   "metadata": {},
   "outputs": [
    {
     "name": "stdout",
     "output_type": "stream",
     "text": [
      "Fails to reject Null Hypothesis\n"
     ]
    }
   ],
   "source": [
    "if (np.abs(t)>t_critical2):\n",
    "    print(\"Reject Null Hypothesis\")\n",
    "else:\n",
    "    print(\"Fails to reject Null Hypothesis\")"
   ]
  },
  {
   "cell_type": "code",
   "execution_count": 24,
   "metadata": {},
   "outputs": [
    {
     "name": "stdout",
     "output_type": "stream",
     "text": [
      "0.33453435790465536\n",
      "Fails to reject Null hypothesis\n"
     ]
    }
   ],
   "source": [
    "# P value\n",
    "\n",
    "p=1-norm.cdf(np.abs(t))\n",
    "print(p)\n",
    "\n",
    "if p > alpha:\n",
    "    print(\"Fails to reject Null hypothesis\")\n",
    "else:\n",
    "    print(\"Reject null hypothesis\")"
   ]
  },
  {
   "cell_type": "markdown",
   "metadata": {},
   "source": [
    "***"
   ]
  },
  {
   "cell_type": "markdown",
   "metadata": {},
   "source": [
    "# Q-4: You have developed a new Machine Learning Application and claim that on average it takes less than 100 ms to predict for any future datapoint. How do you convince your client about this claim?"
   ]
  },
  {
   "cell_type": "markdown",
   "metadata": {},
   "source": [
    "# Step 1:\n",
    "### Bold claim:\n",
    "$$ H_1 : \\mu < 100 $$\n",
    "\n",
    "### Status quo:\n",
    "$$ H_0 : \\mu \\geq 100 $$"
   ]
  },
  {
   "cell_type": "markdown",
   "metadata": {},
   "source": [
    "# Step 2:\n",
    "### Sample size and sample mean (tale sample size =100)"
   ]
  },
  {
   "cell_type": "code",
   "execution_count": 25,
   "metadata": {},
   "outputs": [
    {
     "name": "stdout",
     "output_type": "stream",
     "text": [
      "97.8\n"
     ]
    }
   ],
   "source": [
    "s=[112,96,85,95,91,103,104,100,102,90]\n",
    "sample_mean4=sum(s)/len(s)\n",
    "print(sample_mean4)"
   ]
  },
  {
   "cell_type": "markdown",
   "metadata": {},
   "source": [
    "# Step 3:\n",
    "### finding t_score "
   ]
  },
  {
   "cell_type": "code",
   "execution_count": 26,
   "metadata": {},
   "outputs": [
    {
     "name": "stdout",
     "output_type": "stream",
     "text": [
      "7.96938586787659\n"
     ]
    }
   ],
   "source": [
    "sample_mean=97.8\n",
    "pop_mean=100\n",
    "\n",
    "var=[(i-sample_mean)**2 for i in s]\n",
    "variance=sum(var)/(len(s)-1)\n",
    "sample_dev4=variance**0.5\n",
    "\n",
    "print(sample_dev4)"
   ]
  },
  {
   "cell_type": "code",
   "execution_count": 27,
   "metadata": {},
   "outputs": [
    {
     "name": "stdout",
     "output_type": "stream",
     "text": [
      "-2.760564034009039\n"
     ]
    }
   ],
   "source": [
    "t=t_score(sample_mean,pop_mean,sample_dev4,100)\n",
    "print(t)"
   ]
  },
  {
   "cell_type": "markdown",
   "metadata": {},
   "source": [
    "# Step 4\n",
    "### Finding t_critical"
   ]
  },
  {
   "cell_type": "code",
   "execution_count": 2,
   "metadata": {},
   "outputs": [
    {
     "name": "stdout",
     "output_type": "stream",
     "text": [
      "1.6603911559963895\n"
     ]
    }
   ],
   "source": [
    "alpha=0.05\n",
    "t_critical3=t.ppf(1-alpha,df=99)\n",
    "print(t_critical3)"
   ]
  },
  {
   "cell_type": "markdown",
   "metadata": {},
   "source": [
    "# Step 5:\n",
    "### plotting and concluding"
   ]
  },
  {
   "cell_type": "code",
   "execution_count": 29,
   "metadata": {},
   "outputs": [
    {
     "data": {
      "text/plain": [
       "Text(97.8, 0.004, 'x_bar')"
      ]
     },
     "execution_count": 29,
     "metadata": {},
     "output_type": "execute_result"
    },
    {
     "data": {
      "image/png": "[encoded data removed]",
      "text/plain": [
       "<Figure size 432x288 with 1 Axes>"
      ]
     },
     "metadata": {
      "needs_background": "light"
     },
     "output_type": "display_data"
    }
   ],
   "source": [
    "x_min=80\n",
    "x_max=120\n",
    "\n",
    "mean=pop_mean\n",
    "std=sample_dev4/100**0.5\n",
    "\n",
    "x=np.linspace(x_min,x_max,100)\n",
    "y=norm.pdf(x,mean,std)\n",
    "\n",
    "plt.xlim(x_min,x_max,100)\n",
    "plt.plot(x,y)\n",
    "\n",
    "t_critical_left=pop_mean+(-(t_critical3)*std)\n",
    "\n",
    "x1=np.linspace(x_min,t_critical_left,100)\n",
    "y1=norm.pdf(x1,mean,std)\n",
    "plt.fill_between(x1,y1,color=\"orange\")\n",
    "\n",
    "plt.scatter(sample_mean,0)\n",
    "plt.annotate(\"x_bar\",(sample_mean,0.004))"
   ]
  },
  {
   "cell_type": "code",
   "execution_count": 30,
   "metadata": {},
   "outputs": [
    {
     "name": "stdout",
     "output_type": "stream",
     "text": [
      "Reject Null Hypothesis\n"
     ]
    }
   ],
   "source": [
    "if (np.abs(t)>t_critical_left):\n",
    "    print(\"Fails to reject Null hypothesis\")\n",
    "else:\n",
    "    print(\"Reject Null Hypothesis\")"
   ]
  },
  {
   "cell_type": "code",
   "execution_count": 31,
   "metadata": {},
   "outputs": [
    {
     "name": "stdout",
     "output_type": "stream",
     "text": [
      "0.0028850822571542256\n",
      "Reject Null hypothesis\n"
     ]
    }
   ],
   "source": [
    "# p value\n",
    "p=1-norm.cdf(np.abs(t))\n",
    "print(p)\n",
    "\n",
    "if (p>t_critical3):\n",
    "    print(\"Fails to reject null hypothesis\")\n",
    "else:\n",
    "    print(\"Reject Null hypothesis\")"
   ]
  },
  {
   "cell_type": "code",
   "execution_count": null,
   "metadata": {},
   "outputs": [],
   "source": []
  },
  {
   "cell_type": "code",
   "execution_count": null,
   "metadata": {},
   "outputs": [],
   "source": []
  },
  {
   "cell_type": "code",
   "execution_count": null,
   "metadata": {},
   "outputs": [],
   "source": []
  },
  {
   "cell_type": "code",
   "execution_count": null,
   "metadata": {},
   "outputs": [],
   "source": []
  }
 ],
 "metadata": {
  "kernelspec": {
   "display_name": "Python 3",
   "language": "python",
   "name": "python3"
  },
  "language_info": {
   "codemirror_mode": {
    "name": "ipython",
    "version": 3
   },
   "file_extension": ".py",
   "mimetype": "text/x-python",
   "name": "python",
   "nbconvert_exporter": "python",
   "pygments_lexer": "ipython3",
   "version": "3.8.5"
  }
 },
 "nbformat": 4,
 "nbformat_minor": 4
}
