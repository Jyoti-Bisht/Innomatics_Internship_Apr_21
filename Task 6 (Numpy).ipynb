{
 "cells": [
  {
   "cell_type": "markdown",
   "metadata": {},
   "source": [
    "# Arrays "
   ]
  },
  {
   "cell_type": "code",
   "execution_count": 7,
   "metadata": {},
   "outputs": [
    {
     "name": "stdout",
     "output_type": "stream",
     "text": [
      "1 2 3\n",
      "[3. 2. 1.]\n"
     ]
    }
   ],
   "source": [
    "import numpy as np\n",
    "a=input().split()\n",
    "print(np.array(a[::-1],float))"
   ]
  },
  {
   "cell_type": "markdown",
   "metadata": {},
   "source": [
    "# Shape and reshape"
   ]
  },
  {
   "cell_type": "code",
   "execution_count": 17,
   "metadata": {},
   "outputs": [
    {
     "name": "stdout",
     "output_type": "stream",
     "text": [
      "1 3 4 5 6 7 8 9 2\n",
      "[[1 3 4]\n",
      " [5 6 7]\n",
      " [8 9 2]]\n"
     ]
    }
   ],
   "source": [
    "a=list(map(int,input().split() ))\n",
    "aa=np.array(a)\n",
    "print(np.reshape(aa,(3,3)))"
   ]
  },
  {
   "cell_type": "markdown",
   "metadata": {},
   "source": [
    "# Transpose and Flatten"
   ]
  },
  {
   "cell_type": "code",
   "execution_count": 24,
   "metadata": {
    "scrolled": true
   },
   "outputs": [
    {
     "name": "stdout",
     "output_type": "stream",
     "text": [
      "6 7\n",
      "8 7\n",
      "6 7\n",
      "8 7\n",
      "9 0\n",
      "76 7\n",
      "6 5\n",
      "[[ 8  7]\n",
      " [ 6  7]\n",
      " [ 8  7]\n",
      " [ 9  0]\n",
      " [76  7]\n",
      " [ 6  5]]\n"
     ]
    }
   ],
   "source": [
    "\n",
    "n, m = map(int, input().split())\n",
    "array = np.array([input().strip().split() for _ in range(n)], int)\n",
    "print(array)\n"
   ]
  },
  {
   "cell_type": "markdown",
   "metadata": {},
   "source": [
    "# Concatenate"
   ]
  },
  {
   "cell_type": "code",
   "execution_count": 31,
   "metadata": {},
   "outputs": [
    {
     "name": "stdout",
     "output_type": "stream",
     "text": [
      "2 3 4\n",
      "2 3\n",
      "4 5\n",
      "3 4\n",
      "4 5\n",
      "6 7\n",
      "[[2 3]\n",
      " [4 5]\n",
      " [3 4]\n",
      " [4 5]\n",
      " [6 7]]\n"
     ]
    }
   ],
   "source": [
    "import numpy as np\n",
    "a,c,b=map(int,input().split())\n",
    "\n",
    "\n",
    "arr1=np.array([input().split() for _ in range(a)],int)\n",
    "arr2=np.array([input().split() for _ in range(c)],int)\n",
    "print(np.concatenate((arr1,arr2),axis=0))\n"
   ]
  },
  {
   "cell_type": "markdown",
   "metadata": {},
   "source": [
    "# Zeros and Ones"
   ]
  },
  {
   "cell_type": "code",
   "execution_count": 41,
   "metadata": {},
   "outputs": [
    {
     "name": "stdout",
     "output_type": "stream",
     "text": [
      "2 3\n",
      "[[0 0 0]\n",
      " [0 0 0]]\n",
      "[[1 1 1]\n",
      " [1 1 1]]\n"
     ]
    }
   ],
   "source": [
    "a=tuple(map(int,input().split()))\n",
    "print(np.zeros(a,dtype=int))\n",
    "print(np.ones(a,dtype=int))\n",
    "\n",
    "\n"
   ]
  },
  {
   "cell_type": "markdown",
   "metadata": {},
   "source": [
    "# Min and Max "
   ]
  },
  {
   "cell_type": "code",
   "execution_count": 69,
   "metadata": {},
   "outputs": [
    {
     "name": "stdout",
     "output_type": "stream",
     "text": [
      "3 4\n",
      "2 3\n",
      "4 5\n",
      "3 6\n",
      "4\n"
     ]
    }
   ],
   "source": [
    "a,b=map(int,input().split())\n",
    "arr=np.array([input().split() for _ in range(a)],int)\n",
    "x=print(np.max(np.min(arr,axis=1)))\n"
   ]
  },
  {
   "cell_type": "markdown",
   "metadata": {},
   "source": [
    "# Sum and Prod"
   ]
  },
  {
   "cell_type": "code",
   "execution_count": 72,
   "metadata": {},
   "outputs": [
    {
     "name": "stdout",
     "output_type": "stream",
     "text": [
      "3 4\n",
      "4 5\n",
      "6 7\n",
      "7 8\n",
      "340\n"
     ]
    }
   ],
   "source": [
    "a,b=map(int,input().split())\n",
    "arr=np.array([input().split() for _ in range(a)],int)\n",
    "\n",
    "print(np.prod(np.sum(arr,axis=0)))"
   ]
  },
  {
   "cell_type": "markdown",
   "metadata": {},
   "source": [
    "\n",
    "# Dot and cross product"
   ]
  },
  {
   "cell_type": "code",
   "execution_count": 82,
   "metadata": {},
   "outputs": [
    {
     "name": "stdout",
     "output_type": "stream",
     "text": [
      "2\n",
      "3 4\n",
      "2 3\n",
      "4 5\n",
      "6 7\n",
      "[[36 43]\n",
      " [26 31]]\n"
     ]
    }
   ],
   "source": [
    "n=int(input())\n",
    "array1=np.array([input().split() for _ in range(n)],int)\n",
    "array2=np.array([input().split() for _ in range(n)],int)\n",
    "print(np.dot(array1,array2))"
   ]
  },
  {
   "cell_type": "markdown",
   "metadata": {},
   "source": [
    "# Eye and Identity"
   ]
  },
  {
   "cell_type": "code",
   "execution_count": 6,
   "metadata": {},
   "outputs": [
    {
     "name": "stdout",
     "output_type": "stream",
     "text": [
      "3 4\n",
      "[[ 1.  0.  0.  0.]\n",
      " [ 0.  1.  0.  0.]\n",
      " [ 0.  0.  1.  0.]]\n"
     ]
    }
   ],
   "source": [
    "import numpy as np\n",
    "n,m=map(int,input().split())\n",
    "np.set_printoptions(legacy=\"1.13\")\n",
    "print(np.eye(n,m))"
   ]
  },
  {
   "cell_type": "markdown",
   "metadata": {},
   "source": [
    "# Array Mathematics"
   ]
  },
  {
   "cell_type": "code",
   "execution_count": 9,
   "metadata": {},
   "outputs": [
    {
     "name": "stdout",
     "output_type": "stream",
     "text": [
      "2 3\n",
      "3\n",
      "2\n",
      "4\n",
      "5\n",
      "[[7]\n",
      " [7]]\n",
      "[[-1]\n",
      " [-3]]\n",
      "[[12]\n",
      " [10]]\n",
      "[[0]\n",
      " [0]]\n",
      "[[3]\n",
      " [2]]\n",
      "[[81]\n",
      " [32]]\n"
     ]
    }
   ],
   "source": [
    "import numpy as np\n",
    "n,m=map(int,input().split())\n",
    "A=np.array([input().split() for _ in range(n)],int)\n",
    "B=np.array([input().split() for _ in range(n)],int)\n",
    "print(A+B,A-B,A*B,A//B,A%B,A**B,sep=\"\\n\")"
   ]
  },
  {
   "cell_type": "markdown",
   "metadata": {},
   "source": [
    "# Floor,ceil and rint"
   ]
  },
  {
   "cell_type": "code",
   "execution_count": 14,
   "metadata": {},
   "outputs": [
    {
     "name": "stdout",
     "output_type": "stream",
     "text": [
      "2.2 3.4 5.5 6.7 8.8 9.9 1.23\n",
      "[ 2.  3.  5.  6.  8.  9.  1.]\n",
      "[  3.   4.   6.   7.   9.  10.   2.]\n",
      "[  2.   3.   6.   7.   9.  10.   1.]\n"
     ]
    }
   ],
   "source": [
    "a=np.array(input().split(),float)\n",
    "np.set_printoptions(legacy=\"1.13\")\n",
    "print(np.floor(a),np.ceil(a),np.rint(a),sep=\"\\n\")"
   ]
  },
  {
   "cell_type": "markdown",
   "metadata": {},
   "source": [
    "# Inner and Outer"
   ]
  },
  {
   "cell_type": "code",
   "execution_count": 15,
   "metadata": {},
   "outputs": [
    {
     "name": "stdout",
     "output_type": "stream",
     "text": [
      "2 3 4 5\n",
      "5 6 7 8\n",
      "96\n",
      "[[10 12 14 16]\n",
      " [15 18 21 24]\n",
      " [20 24 28 32]\n",
      " [25 30 35 40]]\n"
     ]
    }
   ],
   "source": [
    "A,B=(np.array(input().split(),int) for _ in range(2))\n",
    "print(np.inner(A,B),np.outer(A,B),sep=\"\\n\")"
   ]
  },
  {
   "cell_type": "markdown",
   "metadata": {},
   "source": [
    "# polynomial"
   ]
  },
  {
   "cell_type": "code",
   "execution_count": 20,
   "metadata": {},
   "outputs": [
    {
     "name": "stdout",
     "output_type": "stream",
     "text": [
      "3\n",
      "2 3 4\n",
      "31.0\n"
     ]
    }
   ],
   "source": [
    "n=int(input())\n",
    "a=list(map(float,input().split()))\n",
    "print(np.polyval(a,n))"
   ]
  },
  {
   "cell_type": "markdown",
   "metadata": {},
   "source": [
    "# Linear Algebra"
   ]
  },
  {
   "cell_type": "code",
   "execution_count": 17,
   "metadata": {},
   "outputs": [
    {
     "name": "stdout",
     "output_type": "stream",
     "text": [
      "2\n",
      "2.2 3.4\n",
      "2.5 6.7\n",
      "6.24\n"
     ]
    }
   ],
   "source": [
    "n=int(input())\n",
    "arr=np.array([input().split() for _ in range(n)],float)\n",
    "print(round(np.linalg.det(arr),2))"
   ]
  },
  {
   "cell_type": "markdown",
   "metadata": {},
   "source": [
    "# Mean,var and std "
   ]
  },
  {
   "cell_type": "code",
   "execution_count": 22,
   "metadata": {},
   "outputs": [
    {
     "name": "stdout",
     "output_type": "stream",
     "text": [
      "3 4\n",
      "3 \n",
      "4\n",
      "5\n",
      "[ 3.  4.  5.]\n",
      "[ 0.66666667]\n",
      "0.81649658093\n"
     ]
    }
   ],
   "source": [
    "n,m=map(int,input().split())\n",
    "arr=np.array([input().split() for _ in range(n)],float)\n",
    "print(np.mean(arr,axis=1),np.var(arr,axis=0),sep=\"\\n\")\n",
    "print(np.around(np.std(arr),decimals=11))"
   ]
  },
  {
   "cell_type": "code",
   "execution_count": null,
   "metadata": {},
   "outputs": [],
   "source": []
  }
 ],
 "metadata": {
  "kernelspec": {
   "display_name": "Python 3",
   "language": "python",
   "name": "python3"
  },
  "language_info": {
   "codemirror_mode": {
    "name": "ipython",
    "version": 3
   },
   "file_extension": ".py",
   "mimetype": "text/x-python",
   "name": "python",
   "nbconvert_exporter": "python",
   "pygments_lexer": "ipython3",
   "version": "3.8.5"
  }
 },
 "nbformat": 4,
 "nbformat_minor": 4
}
